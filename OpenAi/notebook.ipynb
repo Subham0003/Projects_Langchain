{
 "cells": [
  {
   "cell_type": "code",
   "execution_count": 1,
   "metadata": {},
   "outputs": [],
   "source": [
    "import os \n",
    "from dotenv import load_dotenv\n",
    "os.environ['OPENAI_API_KEY']=os.getenv(\"OPENAI_API_KEY\")\n",
    "## Langsmith Tracking\n",
    "os.environ[\"LANGCHAIN_API_KEY\"]=os.getenv(\"LANGCHAIN_API_KEY\")\n",
    "os.environ[\"LANGCHAIN_TRACING_V2\"]=\"true\"\n",
    "os.environ[\"LANGCHAIN_PROJECT\"]=os.getenv(\"LANGCHAIN_PROJECT\")"
   ]
  },
  {
   "cell_type": "code",
   "execution_count": 3,
   "metadata": {},
   "outputs": [
    {
     "name": "stdout",
     "output_type": "stream",
     "text": [
      "client=<openai.resources.chat.completions.Completions object at 0x000002F5CEC6F170> async_client=<openai.resources.chat.completions.AsyncCompletions object at 0x000002F5CEC92360> model_name='gpt-4o' openai_api_key=SecretStr('**********') openai_proxy=''\n"
     ]
    }
   ],
   "source": [
    "from langchain_openai import ChatOpenAI\n",
    "llm=ChatOpenAI(model=\"gpt-4o\")\n",
    "print(llm)"
   ]
  },
  {
   "cell_type": "code",
   "execution_count": 5,
   "metadata": {},
   "outputs": [],
   "source": [
    "result=llm.invoke(\"what do you think about datasciene trend for next 5 years?\")"
   ]
  },
  {
   "cell_type": "code",
   "execution_count": 8,
   "metadata": {},
   "outputs": [
    {
     "name": "stdout",
     "output_type": "stream",
     "text": [
      "Predicting the future of data science involves considering various technological, economic, and social factors that could influence its trajectory. Here are some trends and potential developments in data science over the next five years:\n",
      "\n",
      "### 1. **Increased Automation with AI and ML:**\n",
      "   - **AutoML:** Automated Machine Learning (AutoML) tools will become more sophisticated, allowing non-experts to build and deploy machine learning models with minimal intervention.\n",
      "   - **AI-Driven Data Science:** AI will increasingly assist in various stages of the data science lifecycle, from data cleaning to model selection and hyperparameter tuning.\n",
      "\n",
      "### 2. **Real-Time Analytics:**\n",
      "   - **Streaming Data:** The demand for real-time analytics will grow, driven by sectors like finance, healthcare, and IoT. Technologies such as Apache Kafka and Apache Flink will become more prevalent.\n",
      "   - **Edge Computing:** Data processing at the edge of the network will become more common, reducing latency and bandwidth usage.\n",
      "\n",
      "### 3. **Ethics and Governance:**\n",
      "   - **Responsible AI:** There will be a stronger focus on ethical considerations, bias mitigation, and transparency in AI and ML models.\n",
      "   - **Data Privacy:** Stricter regulations (like GDPR and CCPA) and an increasing public demand for privacy will drive robust data governance practices.\n",
      "\n",
      "### 4. **Interdisciplinary Approach:**\n",
      "   - **Domain-Specific Data Science:** Data science will increasingly be integrated with domain-specific knowledge, requiring professionals to have both data science expertise and domain-specific insights.\n",
      "   - **Citizen Data Scientists:** More tools and platforms will be developed to empower non-technical users to perform data science tasks.\n",
      "\n",
      "### 5. **Advancements in Natural Language Processing (NLP):**\n",
      "   - **Conversational AI:** Improvements in NLP will enhance virtual assistants, chatbots, and other applications involving human-computer interaction.\n",
      "   - **Multimodal Models:** Integrating text, image, and video analytics will become more common, enabling richer and more comprehensive data insights.\n",
      "\n",
      "### 6. **Enhanced Collaboration Tools:**\n",
      "   - **Collaborative Platforms:** Tools like Jupyter Notebooks, Google Colab, and other collaborative platforms will continue to evolve, facilitating better teamwork among data scientists.\n",
      "   - **Version Control for Data:** Just as Git revolutionized software development, similar tools for managing datasets and model versions will gain traction.\n",
      "\n",
      "### 7. **Quantum Computing:**\n",
      "   - **Quantum Algorithms:** While still in its nascent stages, quantum computing has the potential to solve complex problems faster than classical computers, particularly in areas like optimization and cryptography.\n",
      "\n",
      "### 8. **Integration with Business Strategy:**\n",
      "   - **Data-Driven Decision Making:** Businesses will increasingly rely on data-driven strategies, making data science a core component of business planning and operations.\n",
      "   - **ROI Measurement:** There will be a greater emphasis on measuring the return on investment (ROI) of data science projects, ensuring they deliver tangible business value.\n",
      "\n",
      "### 9. **Open Source and Community-Driven Innovations:**\n",
      "   - **Open Source Libraries:** The data science community will continue to benefit from open-source libraries and frameworks, driving innovation and accessibility.\n",
      "   - **Community Contributions:** Platforms like GitHub and Kaggle will remain vital for collaboration and knowledge sharing.\n",
      "\n",
      "### 10. **Education and Skill Development:**\n",
      "   - **Upskilling:** There will be a continuous need for upskilling and reskilling the workforce to keep pace with technological advancements.\n",
      "   - **Formal Education:** Universities and educational institutions will offer more specialized programs and certifications in data science and AI.\n",
      "\n",
      "Overall, the field of data science is poised for significant growth and transformation, driven by technological advancements and the ever-increasing value of data in decision-making processes.\n"
     ]
    }
   ],
   "source": [
    "print(result.content)"
   ]
  },
  {
   "cell_type": "code",
   "execution_count": 9,
   "metadata": {},
   "outputs": [],
   "source": [
    "##playing with chatbot prompt\n",
    "from langchain_core.prompts import ChatPromptTemplate\n",
    "\n",
    "prompt=ChatPromptTemplate([(\n",
    "    \"system\",\"You are an expert AI Engineer. Provide me answers based on the questions\"),\n",
    "        (\"user\",\"{input}\"\n",
    ")\n",
    "\n",
    "]\n",
    "                          )"
   ]
  },
  {
   "cell_type": "code",
   "execution_count": 10,
   "metadata": {},
   "outputs": [
    {
     "data": {
      "text/plain": [
       "ChatPromptTemplate(input_variables=['input'], messages=[SystemMessagePromptTemplate(prompt=PromptTemplate(input_variables=[], template='You are an expert AI Engineer. Provide me answers based on the questions')), HumanMessagePromptTemplate(prompt=PromptTemplate(input_variables=['input'], template='{input}'))])"
      ]
     },
     "execution_count": 10,
     "metadata": {},
     "output_type": "execute_result"
    }
   ],
   "source": [
    "prompt"
   ]
  },
  {
   "cell_type": "code",
   "execution_count": 12,
   "metadata": {},
   "outputs": [
    {
     "name": "stdout",
     "output_type": "stream",
     "text": [
      "content='Certainly! \"LangSmith\" is not a widely recognized term or concept in the field of AI or software engineering as of my latest update. However, I can offer a few interpretations based on the components of the word:\\n\\n1. **Language Smith**: This might refer to someone who is skilled in crafting or working with languages, possibly in the context of natural language processing (NLP) or programming languages. In this sense, a \"LangSmith\" could be an expert in developing, analyzing, or implementing language models or programming languages.\\n\\n2. **Language Tool or Framework**: It could also be the name of a hypothetical or proprietary tool, library, or framework designed to assist with language-related tasks, such as language modeling, translation, syntax parsing, or other NLP tasks.\\n\\n3. **Educational Context**: LangSmith might be an educational platform or course focused on teaching the intricacies of language processing, machine learning, or AI, aimed at training individuals to become experts in these fields.\\n\\nIf you have a more specific context or additional information about \"LangSmith,\" I can provide a more detailed and accurate explanation.' response_metadata={'token_usage': {'completion_tokens': 225, 'prompt_tokens': 32, 'total_tokens': 257}, 'model_name': 'gpt-4o-2024-05-13', 'system_fingerprint': 'fp_3aa7262c27', 'finish_reason': 'stop', 'logprobs': None} id='run-a67d4eed-6e67-48cb-9b13-390badb238e2-0' usage_metadata={'input_tokens': 32, 'output_tokens': 225, 'total_tokens': 257}\n"
     ]
    },
    {
     "ename": "AttributeError",
     "evalue": "'NoneType' object has no attribute 'content'",
     "output_type": "error",
     "traceback": [
      "\u001b[1;31m---------------------------------------------------------------------------\u001b[0m",
      "\u001b[1;31mAttributeError\u001b[0m                            Traceback (most recent call last)",
      "Cell \u001b[1;32mIn[12], line 3\u001b[0m\n\u001b[0;32m      1\u001b[0m chain\u001b[38;5;241m=\u001b[39mprompt\u001b[38;5;241m|\u001b[39mllm\n\u001b[0;32m      2\u001b[0m result\u001b[38;5;241m=\u001b[39mchain\u001b[38;5;241m.\u001b[39minvoke(\u001b[38;5;124m\"\u001b[39m\u001b[38;5;124mcan you tell me about langsmith\u001b[39m\u001b[38;5;124m\"\u001b[39m)\n\u001b[1;32m----> 3\u001b[0m \u001b[38;5;28;43mprint\u001b[39;49m\u001b[43m(\u001b[49m\u001b[43mresult\u001b[49m\u001b[43m)\u001b[49m\u001b[38;5;241;43m.\u001b[39;49m\u001b[43mcontent\u001b[49m\n",
      "\u001b[1;31mAttributeError\u001b[0m: 'NoneType' object has no attribute 'content'"
     ]
    }
   ],
   "source": [
    "chain=prompt|llm\n",
    "result=chain.invoke(\"can you tell me about langsmith\")\n"
   ]
  },
  {
   "cell_type": "code",
   "execution_count": 14,
   "metadata": {},
   "outputs": [
    {
     "name": "stdout",
     "output_type": "stream",
     "text": [
      "Certainly! \"LangSmith\" is not a widely recognized term or concept in the field of AI or software engineering as of my latest update. However, I can offer a few interpretations based on the components of the word:\n",
      "\n",
      "1. **Language Smith**: This might refer to someone who is skilled in crafting or working with languages, possibly in the context of natural language processing (NLP) or programming languages. In this sense, a \"LangSmith\" could be an expert in developing, analyzing, or implementing language models or programming languages.\n",
      "\n",
      "2. **Language Tool or Framework**: It could also be the name of a hypothetical or proprietary tool, library, or framework designed to assist with language-related tasks, such as language modeling, translation, syntax parsing, or other NLP tasks.\n",
      "\n",
      "3. **Educational Context**: LangSmith might be an educational platform or course focused on teaching the intricacies of language processing, machine learning, or AI, aimed at training individuals to become experts in these fields.\n",
      "\n",
      "If you have a more specific context or additional information about \"LangSmith,\" I can provide a more detailed and accurate explanation.\n"
     ]
    }
   ],
   "source": [
    "print(result.content)"
   ]
  },
  {
   "cell_type": "code",
   "execution_count": 15,
   "metadata": {},
   "outputs": [],
   "source": [
    "#stroutparser\n",
    "from langchain_core.output_parsers import StrOutputParser\n",
    "output_parser=StrOutputParser()\n",
    "chain=prompt|llm|output_parser"
   ]
  },
  {
   "cell_type": "code",
   "execution_count": 16,
   "metadata": {},
   "outputs": [],
   "source": [
    "response=chain.invoke(\"hy can you me about protein\")"
   ]
  },
  {
   "cell_type": "code",
   "execution_count": 19,
   "metadata": {},
   "outputs": [
    {
     "name": "stdout",
     "output_type": "stream",
     "text": [
      "Of course! Proteins are large, complex molecules that play many critical roles in the body. Here are some key points about proteins:\n",
      "\n",
      "### Structure:\n",
      "1. **Amino Acids**: Proteins are made up of smaller units called amino acids. There are 20 different amino acids that can be combined in various sequences to form a protein.\n",
      "2. **Peptide Bonds**: Amino acids are linked together by peptide bonds to form a polypeptide chain.\n",
      "3. **Levels of Structure**:\n",
      "   - **Primary Structure**: The sequence of amino acids in the polypeptide chain.\n",
      "   - **Secondary Structure**: Local folding into structures like alpha-helices and beta-sheets.\n",
      "   - **Tertiary Structure**: The overall 3D shape of a single polypeptide chain.\n",
      "   - **Quaternary Structure**: The structure formed by multiple polypeptide chains (subunits) coming together.\n",
      "\n",
      "### Functions:\n",
      "1. **Enzymes**: Proteins that act as biological catalysts to speed up chemical reactions.\n",
      "2. **Structural**: Provide support and shape to cells and tissues (e.g., collagen, keratin).\n",
      "3. **Transport**: Carry molecules across cell membranes or through the bloodstream (e.g., hemoglobin).\n",
      "4. **Signaling**: Involved in cell signaling and communication (e.g., hormones like insulin).\n",
      "5. **Immune Response**: Antibodies are proteins that help to protect the body against pathogens.\n",
      "6. **Movement**: Actin and myosin are proteins involved in muscle contraction.\n",
      "\n",
      "### Synthesis:\n",
      "1. **DNA to RNA (Transcription)**: The genetic code in DNA is transcribed into messenger RNA (mRNA).\n",
      "2. **RNA to Protein (Translation)**: The mRNA is then translated into a protein at the ribosome, with the help of transfer RNA (tRNA) and ribosomal RNA (rRNA).\n",
      "\n",
      "### Dietary Importance:\n",
      "1. **Essential Amino Acids**: Nine of the amino acids are considered essential because the body cannot synthesize them; they must be obtained from the diet.\n",
      "2. **Sources**: Proteins can be found in both animal products (e.g., meat, dairy, eggs) and plant-based sources (e.g., beans, nuts, seeds).\n",
      "\n",
      "### Disorders:\n",
      "1. **Protein Misfolding**: Incorrect folding of proteins can lead to diseases such as Alzheimer's, Parkinson's, and cystic fibrosis.\n",
      "2. **Deficiency**: Lack of sufficient protein intake can lead to muscle wasting, weakened immune response, and other health issues.\n",
      "\n",
      "Proteins are fundamental to life, and understanding their structure and function is crucial in fields ranging from medicine to bioengineering. If you have more specific questions about proteins, feel free to ask!\n"
     ]
    }
   ],
   "source": [
    "print(response)"
   ]
  },
  {
   "cell_type": "code",
   "execution_count": null,
   "metadata": {},
   "outputs": [],
   "source": []
  }
 ],
 "metadata": {
  "kernelspec": {
   "display_name": "Python 3",
   "language": "python",
   "name": "python3"
  },
  "language_info": {
   "codemirror_mode": {
    "name": "ipython",
    "version": 3
   },
   "file_extension": ".py",
   "mimetype": "text/x-python",
   "name": "python",
   "nbconvert_exporter": "python",
   "pygments_lexer": "ipython3",
   "version": "3.12.0"
  }
 },
 "nbformat": 4,
 "nbformat_minor": 2
}
