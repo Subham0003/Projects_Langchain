{
 "cells": [
  {
   "cell_type": "code",
   "execution_count": 1,
   "metadata": {},
   "outputs": [],
   "source": [
    "# Step 1: Import Libraries and Load the Model\n",
    "import numpy as np\n",
    "import tensorflow as tf\n",
    "from tensorflow.keras.datasets import imdb\n",
    "from tensorflow.keras.preprocessing import sequence\n",
    "from tensorflow.keras.models import load_model"
   ]
  },
  {
   "cell_type": "code",
   "execution_count": 2,
   "metadata": {},
   "outputs": [],
   "source": [
    "\n",
    "# Load the IMDB dataset word index\n",
    "word_index = imdb.get_word_index()\n",
    "reverse_word_index = {value: key for key, value in word_index.items()}"
   ]
  },
  {
   "cell_type": "code",
   "execution_count": 3,
   "metadata": {},
   "outputs": [
    {
     "name": "stderr",
     "output_type": "stream",
     "text": [
      "WARNING:absl:Compiled the loaded model, but the compiled metrics have yet to be built. `model.compile_metrics` will be empty until you train or evaluate the model.\n"
     ]
    },
    {
     "data": {
      "text/html": [
       "<pre style=\"white-space:pre;overflow-x:auto;line-height:normal;font-family:Menlo,'DejaVu Sans Mono',consolas,'Courier New',monospace\"><span style=\"font-weight: bold\">Model: \"sequential\"</span>\n",
       "</pre>\n"
      ],
      "text/plain": [
       "\u001b[1mModel: \"sequential\"\u001b[0m\n"
      ]
     },
     "metadata": {},
     "output_type": "display_data"
    },
    {
     "data": {
      "text/html": [
       "<pre style=\"white-space:pre;overflow-x:auto;line-height:normal;font-family:Menlo,'DejaVu Sans Mono',consolas,'Courier New',monospace\">┏━━━━━━━━━━━━━━━━━━━━━━━━━━━━━━━━━┳━━━━━━━━━━━━━━━━━━━━━━━━┳━━━━━━━━━━━━━━━┓\n",
       "┃<span style=\"font-weight: bold\"> Layer (type)                    </span>┃<span style=\"font-weight: bold\"> Output Shape           </span>┃<span style=\"font-weight: bold\">       Param # </span>┃\n",
       "┡━━━━━━━━━━━━━━━━━━━━━━━━━━━━━━━━━╇━━━━━━━━━━━━━━━━━━━━━━━━╇━━━━━━━━━━━━━━━┩\n",
       "│ embedding (<span style=\"color: #0087ff; text-decoration-color: #0087ff\">Embedding</span>)           │ (<span style=\"color: #00af00; text-decoration-color: #00af00\">32</span>, <span style=\"color: #00af00; text-decoration-color: #00af00\">500</span>, <span style=\"color: #00af00; text-decoration-color: #00af00\">128</span>)         │     <span style=\"color: #00af00; text-decoration-color: #00af00\">1,280,000</span> │\n",
       "├─────────────────────────────────┼────────────────────────┼───────────────┤\n",
       "│ simple_rnn (<span style=\"color: #0087ff; text-decoration-color: #0087ff\">SimpleRNN</span>)          │ (<span style=\"color: #00af00; text-decoration-color: #00af00\">32</span>, <span style=\"color: #00af00; text-decoration-color: #00af00\">128</span>)              │        <span style=\"color: #00af00; text-decoration-color: #00af00\">32,896</span> │\n",
       "├─────────────────────────────────┼────────────────────────┼───────────────┤\n",
       "│ dense (<span style=\"color: #0087ff; text-decoration-color: #0087ff\">Dense</span>)                   │ (<span style=\"color: #00af00; text-decoration-color: #00af00\">32</span>, <span style=\"color: #00af00; text-decoration-color: #00af00\">1</span>)                │           <span style=\"color: #00af00; text-decoration-color: #00af00\">129</span> │\n",
       "└─────────────────────────────────┴────────────────────────┴───────────────┘\n",
       "</pre>\n"
      ],
      "text/plain": [
       "┏━━━━━━━━━━━━━━━━━━━━━━━━━━━━━━━━━┳━━━━━━━━━━━━━━━━━━━━━━━━┳━━━━━━━━━━━━━━━┓\n",
       "┃\u001b[1m \u001b[0m\u001b[1mLayer (type)                   \u001b[0m\u001b[1m \u001b[0m┃\u001b[1m \u001b[0m\u001b[1mOutput Shape          \u001b[0m\u001b[1m \u001b[0m┃\u001b[1m \u001b[0m\u001b[1m      Param #\u001b[0m\u001b[1m \u001b[0m┃\n",
       "┡━━━━━━━━━━━━━━━━━━━━━━━━━━━━━━━━━╇━━━━━━━━━━━━━━━━━━━━━━━━╇━━━━━━━━━━━━━━━┩\n",
       "│ embedding (\u001b[38;5;33mEmbedding\u001b[0m)           │ (\u001b[38;5;34m32\u001b[0m, \u001b[38;5;34m500\u001b[0m, \u001b[38;5;34m128\u001b[0m)         │     \u001b[38;5;34m1,280,000\u001b[0m │\n",
       "├─────────────────────────────────┼────────────────────────┼───────────────┤\n",
       "│ simple_rnn (\u001b[38;5;33mSimpleRNN\u001b[0m)          │ (\u001b[38;5;34m32\u001b[0m, \u001b[38;5;34m128\u001b[0m)              │        \u001b[38;5;34m32,896\u001b[0m │\n",
       "├─────────────────────────────────┼────────────────────────┼───────────────┤\n",
       "│ dense (\u001b[38;5;33mDense\u001b[0m)                   │ (\u001b[38;5;34m32\u001b[0m, \u001b[38;5;34m1\u001b[0m)                │           \u001b[38;5;34m129\u001b[0m │\n",
       "└─────────────────────────────────┴────────────────────────┴───────────────┘\n"
      ]
     },
     "metadata": {},
     "output_type": "display_data"
    },
    {
     "data": {
      "text/html": [
       "<pre style=\"white-space:pre;overflow-x:auto;line-height:normal;font-family:Menlo,'DejaVu Sans Mono',consolas,'Courier New',monospace\"><span style=\"font-weight: bold\"> Total params: </span><span style=\"color: #00af00; text-decoration-color: #00af00\">1,313,027</span> (5.01 MB)\n",
       "</pre>\n"
      ],
      "text/plain": [
       "\u001b[1m Total params: \u001b[0m\u001b[38;5;34m1,313,027\u001b[0m (5.01 MB)\n"
      ]
     },
     "metadata": {},
     "output_type": "display_data"
    },
    {
     "data": {
      "text/html": [
       "<pre style=\"white-space:pre;overflow-x:auto;line-height:normal;font-family:Menlo,'DejaVu Sans Mono',consolas,'Courier New',monospace\"><span style=\"font-weight: bold\"> Trainable params: </span><span style=\"color: #00af00; text-decoration-color: #00af00\">1,313,025</span> (5.01 MB)\n",
       "</pre>\n"
      ],
      "text/plain": [
       "\u001b[1m Trainable params: \u001b[0m\u001b[38;5;34m1,313,025\u001b[0m (5.01 MB)\n"
      ]
     },
     "metadata": {},
     "output_type": "display_data"
    },
    {
     "data": {
      "text/html": [
       "<pre style=\"white-space:pre;overflow-x:auto;line-height:normal;font-family:Menlo,'DejaVu Sans Mono',consolas,'Courier New',monospace\"><span style=\"font-weight: bold\"> Non-trainable params: </span><span style=\"color: #00af00; text-decoration-color: #00af00\">0</span> (0.00 B)\n",
       "</pre>\n"
      ],
      "text/plain": [
       "\u001b[1m Non-trainable params: \u001b[0m\u001b[38;5;34m0\u001b[0m (0.00 B)\n"
      ]
     },
     "metadata": {},
     "output_type": "display_data"
    },
    {
     "data": {
      "text/html": [
       "<pre style=\"white-space:pre;overflow-x:auto;line-height:normal;font-family:Menlo,'DejaVu Sans Mono',consolas,'Courier New',monospace\"><span style=\"font-weight: bold\"> Optimizer params: </span><span style=\"color: #00af00; text-decoration-color: #00af00\">2</span> (12.00 B)\n",
       "</pre>\n"
      ],
      "text/plain": [
       "\u001b[1m Optimizer params: \u001b[0m\u001b[38;5;34m2\u001b[0m (12.00 B)\n"
      ]
     },
     "metadata": {},
     "output_type": "display_data"
    }
   ],
   "source": [
    "# Load the pre-trained model with ReLU activation\n",
    "model = load_model('simple_rnn_imdb.h5')\n",
    "model.summary()"
   ]
  },
  {
   "cell_type": "code",
   "execution_count": 4,
   "metadata": {},
   "outputs": [
    {
     "data": {
      "text/plain": [
       "[array([[ 0.5794105 ,  0.3683058 ,  0.5496332 , ..., -0.35462695,\n",
       "         -0.3406211 ,  0.52797264],\n",
       "        [ 0.02920013,  0.02943154, -0.01832273, ..., -0.00601167,\n",
       "          0.01565883,  0.04402388],\n",
       "        [ 0.17532724, -0.03127696,  0.22165786, ...,  0.02881913,\n",
       "         -0.08469034,  0.16730241],\n",
       "        ...,\n",
       "        [-0.10075296,  0.08303317, -0.06226971, ..., -0.02753272,\n",
       "         -0.00353848, -0.09026866],\n",
       "        [ 0.01426153, -0.02512582, -0.00131823, ...,  0.00378286,\n",
       "          0.0280403 ,  0.09283816],\n",
       "        [-0.2305694 ,  0.15487479, -0.17677532, ..., -0.13774905,\n",
       "          0.050498  , -0.13702416]], dtype=float32),\n",
       " array([[-0.08199179, -0.14860478,  0.09388049, ..., -0.1731203 ,\n",
       "         -0.11206315, -0.13279745],\n",
       "        [ 0.07105432, -0.03122228,  0.03056081, ...,  0.132599  ,\n",
       "         -0.11437812,  0.01036611],\n",
       "        [-0.12137853, -0.02732965, -0.03927581, ..., -0.12829216,\n",
       "          0.06711555, -0.05218036],\n",
       "        ...,\n",
       "        [ 0.10733993, -0.03537603,  0.15170184, ...,  0.17446597,\n",
       "          0.02847482,  0.08333015],\n",
       "        [-0.08135214,  0.09937444,  0.0093945 , ...,  0.14870565,\n",
       "         -0.04886318,  0.00825787],\n",
       "        [ 0.01131755, -0.02665469, -0.03553898, ..., -0.07933401,\n",
       "          0.06497549, -0.10680505]], dtype=float32),\n",
       " array([[-0.02775499, -0.04554738, -0.05084144, ..., -0.11065394,\n",
       "          0.12825742,  0.03475297],\n",
       "        [ 0.13549924,  0.00433126,  0.0540983 , ..., -0.11705624,\n",
       "          0.02491873,  0.02963214],\n",
       "        [-0.13128847,  0.13101576,  0.11788297, ..., -0.00805477,\n",
       "          0.01695031, -0.10407244],\n",
       "        ...,\n",
       "        [ 0.12906472,  0.127079  , -0.06039523, ..., -0.01877004,\n",
       "          0.15266229,  0.0177198 ],\n",
       "        [-0.05869453, -0.13085781,  0.09384362, ...,  0.097547  ,\n",
       "         -0.21041249,  0.08871696],\n",
       "        [-0.10307298,  0.11141588,  0.17311122, ..., -0.11421727,\n",
       "          0.00723826, -0.04672765]], dtype=float32),\n",
       " array([-0.02828686, -0.05828928, -0.05007211,  0.02175782, -0.04473905,\n",
       "         0.01413836, -0.03763163, -0.01883432, -0.04283652, -0.0254117 ,\n",
       "         0.05252859, -0.03571444, -0.02564207, -0.01586378, -0.00111815,\n",
       "         0.06205426, -0.00234419, -0.0425814 , -0.03498393,  0.03659797,\n",
       "         0.05528227,  0.01662754, -0.04173463, -0.00604118,  0.05079668,\n",
       "        -0.03560634,  0.04874964, -0.04757271, -0.00841343, -0.04985418,\n",
       "        -0.00719177,  0.0117614 , -0.01023609, -0.00544801,  0.05787076,\n",
       "         0.02352753, -0.01638464,  0.03505537, -0.01394165, -0.02177245,\n",
       "        -0.02338824, -0.00202821, -0.03727852, -0.01765756, -0.01867566,\n",
       "        -0.02850833, -0.00980671, -0.01873615,  0.00815483, -0.02349169,\n",
       "        -0.04128324, -0.02711973,  0.02825996, -0.06234712,  0.05229942,\n",
       "         0.05341699,  0.0163867 ,  0.00557065, -0.06368867, -0.04412477,\n",
       "        -0.01367017, -0.03257071, -0.00184567, -0.01755543, -0.00681735,\n",
       "        -0.00231413,  0.0249621 , -0.01248634, -0.02329563, -0.06057646,\n",
       "        -0.04409298, -0.05719071, -0.02029   ,  0.05582659, -0.0004567 ,\n",
       "        -0.04456626,  0.01858513, -0.02510162, -0.02957775, -0.02577632,\n",
       "         0.00276529,  0.05731826, -0.02514564,  0.00784845, -0.00837894,\n",
       "        -0.02434015,  0.0124022 ,  0.01466858,  0.04212825,  0.01036626,\n",
       "        -0.04871673,  0.0515042 , -0.03031533,  0.04869946, -0.00104533,\n",
       "         0.01507096, -0.01433105,  0.03056595, -0.01425831,  0.00420168,\n",
       "         0.03886273, -0.03679873, -0.03983132, -0.01102221,  0.00299962,\n",
       "        -0.00628368, -0.01095079, -0.06233375,  0.06468201, -0.02149208,\n",
       "        -0.01424299,  0.01166467, -0.02681675,  0.01015437,  0.05185334,\n",
       "         0.02082963,  0.02201968,  0.01729516,  0.00820796, -0.00531677,\n",
       "         0.00638658, -0.00667416,  0.05835895, -0.04438751, -0.05036866,\n",
       "        -0.01337717,  0.01943816, -0.00377035], dtype=float32),\n",
       " array([[-6.43857270e-02],\n",
       "        [ 1.47326261e-01],\n",
       "        [-1.19689088e-02],\n",
       "        [-2.27361023e-01],\n",
       "        [-2.40459503e-03],\n",
       "        [-5.45126982e-02],\n",
       "        [ 8.50621834e-02],\n",
       "        [-3.74909788e-02],\n",
       "        [ 2.04509184e-01],\n",
       "        [-2.46345308e-02],\n",
       "        [ 1.23147756e-01],\n",
       "        [ 1.77910596e-01],\n",
       "        [ 2.17455551e-01],\n",
       "        [-1.19539998e-01],\n",
       "        [ 9.00211409e-02],\n",
       "        [-2.26312160e-01],\n",
       "        [ 3.96328345e-02],\n",
       "        [ 1.38103053e-01],\n",
       "        [ 1.01761036e-01],\n",
       "        [-6.14790395e-02],\n",
       "        [-6.53706118e-02],\n",
       "        [-1.63594127e-01],\n",
       "        [-1.50080442e-01],\n",
       "        [ 1.28174797e-01],\n",
       "        [-1.33535713e-01],\n",
       "        [-3.16895783e-01],\n",
       "        [-9.02512819e-02],\n",
       "        [ 7.91866612e-03],\n",
       "        [-3.33805196e-03],\n",
       "        [ 9.36443433e-02],\n",
       "        [ 6.25686824e-01],\n",
       "        [-1.62964791e-01],\n",
       "        [-1.05149043e+00],\n",
       "        [ 1.93724945e-01],\n",
       "        [-1.18849799e-02],\n",
       "        [-2.00585455e-01],\n",
       "        [ 1.94469288e-01],\n",
       "        [ 1.75440705e+00],\n",
       "        [-2.07109958e-01],\n",
       "        [ 8.33806694e-02],\n",
       "        [ 9.41490084e-02],\n",
       "        [-2.51271427e-01],\n",
       "        [ 2.16831174e-02],\n",
       "        [-2.80728713e-02],\n",
       "        [ 1.36206269e-01],\n",
       "        [ 3.81617136e-02],\n",
       "        [ 1.73707873e-01],\n",
       "        [ 2.30957329e-01],\n",
       "        [ 4.88124490e-02],\n",
       "        [ 1.20094672e-01],\n",
       "        [-8.56291428e-02],\n",
       "        [ 1.97513342e-01],\n",
       "        [-8.27981308e-02],\n",
       "        [ 1.05277494e-01],\n",
       "        [ 7.56795555e-02],\n",
       "        [-2.09577344e-02],\n",
       "        [-1.75581604e-01],\n",
       "        [-4.33854423e-02],\n",
       "        [-1.77022647e-02],\n",
       "        [ 1.13184005e-01],\n",
       "        [ 2.55513433e-02],\n",
       "        [-1.65982191e-02],\n",
       "        [-5.12379706e-02],\n",
       "        [ 1.22864293e-02],\n",
       "        [ 7.31355918e-04],\n",
       "        [-1.77464932e-02],\n",
       "        [-1.44660631e-02],\n",
       "        [ 2.57056117e-01],\n",
       "        [ 1.90547615e-01],\n",
       "        [-1.32829681e-01],\n",
       "        [ 3.63731086e-01],\n",
       "        [ 1.49974033e-01],\n",
       "        [-2.05607325e-01],\n",
       "        [-1.75742924e-01],\n",
       "        [ 7.66286775e-02],\n",
       "        [-9.27391127e-02],\n",
       "        [ 1.24680735e-01],\n",
       "        [ 9.28502679e-02],\n",
       "        [-1.83796450e-01],\n",
       "        [ 1.44764662e-01],\n",
       "        [ 1.01170130e-03],\n",
       "        [-1.34529680e-01],\n",
       "        [ 1.78261653e-01],\n",
       "        [-2.25029498e-01],\n",
       "        [ 8.24886933e-02],\n",
       "        [ 4.05937806e-03],\n",
       "        [ 8.34184587e-02],\n",
       "        [-1.71022862e-01],\n",
       "        [ 1.22850031e-01],\n",
       "        [-2.39194542e-01],\n",
       "        [ 1.45525917e-01],\n",
       "        [-1.30228385e-01],\n",
       "        [-1.10246437e-02],\n",
       "        [-1.42128959e-01],\n",
       "        [-1.52971387e-01],\n",
       "        [-1.01132654e-01],\n",
       "        [ 1.12934738e-01],\n",
       "        [-2.10328132e-01],\n",
       "        [ 1.81905746e-01],\n",
       "        [ 1.37715871e-02],\n",
       "        [ 6.28350079e-02],\n",
       "        [ 6.95789158e-02],\n",
       "        [ 1.93991691e-01],\n",
       "        [ 1.52716771e-01],\n",
       "        [-1.19799644e-01],\n",
       "        [-5.86575121e-02],\n",
       "        [ 4.35756110e-02],\n",
       "        [ 9.59684551e-02],\n",
       "        [ 1.11352339e-01],\n",
       "        [ 2.23992407e-01],\n",
       "        [ 1.38636366e-01],\n",
       "        [-2.08629277e-02],\n",
       "        [ 9.00003135e-01],\n",
       "        [-1.80800810e-01],\n",
       "        [-1.09023973e-02],\n",
       "        [ 1.19897410e-01],\n",
       "        [-6.52441680e-02],\n",
       "        [ 1.17918193e-01],\n",
       "        [ 1.44666165e-01],\n",
       "        [ 8.13064203e-02],\n",
       "        [ 2.51444895e-02],\n",
       "        [-1.82995364e-01],\n",
       "        [-1.00839771e-02],\n",
       "        [-1.44585092e-02],\n",
       "        [-1.12496905e-01],\n",
       "        [ 1.75043717e-01],\n",
       "        [-4.33871150e-01],\n",
       "        [ 1.02695920e-01]], dtype=float32),\n",
       " array([1.9063059], dtype=float32)]"
      ]
     },
     "execution_count": 4,
     "metadata": {},
     "output_type": "execute_result"
    }
   ],
   "source": [
    "model.get_weights()"
   ]
  },
  {
   "cell_type": "code",
   "execution_count": 5,
   "metadata": {},
   "outputs": [],
   "source": [
    "# Step 2: Helper Functions\n",
    "# Function to decode reviews\n",
    "def decode_review(encoded_review):\n",
    "    return ' '.join([reverse_word_index.get(i - 3, '?') for i in encoded_review])\n",
    "\n",
    "# Function to preprocess user input\n",
    "def preprocess_text(text):\n",
    "    words = text.lower().split()\n",
    "    encoded_review = [word_index.get(word, 2) + 3 for word in words]\n",
    "    padded_review = sequence.pad_sequences([encoded_review], maxlen=500)\n",
    "    return padded_review"
   ]
  },
  {
   "cell_type": "code",
   "execution_count": 6,
   "metadata": {},
   "outputs": [],
   "source": [
    "### Prediction  function\n",
    "\n",
    "def predict_sentiment(review):\n",
    "    preprocessed_input=preprocess_text(review)\n",
    "\n",
    "    prediction=model.predict(preprocessed_input)\n",
    "\n",
    "    sentiment = 'Positive' if prediction[0][0] > 0.5 else 'Negative'\n",
    "    \n",
    "    return sentiment, prediction[0][0]\n",
    "\n"
   ]
  },
  {
   "cell_type": "code",
   "execution_count": 7,
   "metadata": {},
   "outputs": [
    {
     "name": "stdout",
     "output_type": "stream",
     "text": [
      "\u001b[1m1/1\u001b[0m \u001b[32m━━━━━━━━━━━━━━━━━━━━\u001b[0m\u001b[37m\u001b[0m \u001b[1m0s\u001b[0m 137ms/step\n",
      "Review: This movie was fantastic! The acting was great and the plot was thrilling.\n",
      "Sentiment: Positive\n",
      "Prediction Score: 0.7325009107589722\n"
     ]
    }
   ],
   "source": [
    "# Step 4: User Input and Prediction\n",
    "# Example review for prediction\n",
    "example_review = \"This movie was fantastic! The acting was great and the plot was thrilling.\"\n",
    "\n",
    "sentiment,score=predict_sentiment(example_review)\n",
    "\n",
    "print(f'Review: {example_review}')\n",
    "print(f'Sentiment: {sentiment}')\n",
    "print(f'Prediction Score: {score}')"
   ]
  },
  {
   "cell_type": "code",
   "execution_count": 9,
   "metadata": {},
   "outputs": [
    {
     "name": "stdout",
     "output_type": "stream",
     "text": [
      "\u001b[1m1/1\u001b[0m \u001b[32m━━━━━━━━━━━━━━━━━━━━\u001b[0m\u001b[37m\u001b[0m \u001b[1m0s\u001b[0m 38ms/step\n",
      "Review: Worst movie in the world\n",
      "Sentiment: Positive\n",
      "Prediction Score: 0.6865628957748413\n"
     ]
    }
   ],
   "source": [
    "review=\"Worst movie in the world\"\n",
    "sentiment,score=predict_sentiment(review)\n",
    "\n",
    "print(f'Review: {review}')\n",
    "print(f'Sentiment: {sentiment}')\n",
    "print(f'Prediction Score: {score}')"
   ]
  },
  {
   "cell_type": "code",
   "execution_count": null,
   "metadata": {},
   "outputs": [],
   "source": []
  },
  {
   "cell_type": "code",
   "execution_count": null,
   "metadata": {},
   "outputs": [],
   "source": []
  },
  {
   "cell_type": "code",
   "execution_count": null,
   "metadata": {},
   "outputs": [],
   "source": []
  }
 ],
 "metadata": {
  "kernelspec": {
   "display_name": "Python 3",
   "language": "python",
   "name": "python3"
  },
  "language_info": {
   "codemirror_mode": {
    "name": "ipython",
    "version": 3
   },
   "file_extension": ".py",
   "mimetype": "text/x-python",
   "name": "python",
   "nbconvert_exporter": "python",
   "pygments_lexer": "ipython3",
   "version": "3.12.0"
  }
 },
 "nbformat": 4,
 "nbformat_minor": 2
}
